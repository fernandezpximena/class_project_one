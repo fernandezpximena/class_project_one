{
 "cells": [
  {
   "cell_type": "code",
   "execution_count": 12,
   "metadata": {},
   "outputs": [],
   "source": [
    "from matplotlib import pyplot as plt\n",
    "from scipy import stats\n",
    "import numpy as np\n",
    "import pandas as pd\n",
    "\n",
    "Sucurpath = \"../combined_sucursales.csv\"\n",
    "Suc = pd.read_csv(Sucurpath)\n",
    "pd.set_option('display.max_columns', None)"
   ]
  },
  {
   "cell_type": "code",
   "execution_count": 13,
   "metadata": {},
   "outputs": [],
   "source": [
    "SucClean = Suc.dropna(how='any')\n",
    "SucClean.drop(SucClean.loc[SucClean['DL_SITUACI']==\"BAJA\"].index, inplace=True)\n",
    "SucClean.drop(SucClean.loc[SucClean['DL_ESTADO']==\"GRAND CAYMAN\"].index, inplace=True)\n",
    "SucClean.drop([\"CVE_TIPO_S\",\"CVE_PERIOD\",\"CVE_INSTIT\",\"DAT_DENOMI\",\"CVE_SITUAC\",\"DL_SITUACI\",\"DAT_FECHA_\",\"DAT_CALLE\",\"DAT_NUMERO\",\"DAT_NUME_1\",\"CVE_COLONI\",\"CVE_LOCALI\",\"DL_MUNIC_1\",\"CODIGO_POS\"], axis = 1,inplace=True)"
   ]
  },
  {
   "cell_type": "code",
   "execution_count": 15,
   "metadata": {
    "scrolled": false
   },
   "outputs": [
    {
     "data": {
      "text/html": [
       "<div>\n",
       "<style scoped>\n",
       "    .dataframe tbody tr th:only-of-type {\n",
       "        vertical-align: middle;\n",
       "    }\n",
       "\n",
       "    .dataframe tbody tr th {\n",
       "        vertical-align: top;\n",
       "    }\n",
       "\n",
       "    .dataframe thead th {\n",
       "        text-align: right;\n",
       "    }\n",
       "</style>\n",
       "<table border=\"1\" class=\"dataframe\">\n",
       "  <thead>\n",
       "    <tr style=\"text-align: right;\">\n",
       "      <th></th>\n",
       "      <th>Nombre público</th>\n",
       "      <th>ID Banco</th>\n",
       "      <th>Clave de Servicio</th>\n",
       "      <th>Tipo de Servicio</th>\n",
       "      <th>Clave Municipio</th>\n",
       "      <th>Municipio</th>\n",
       "      <th>Clave Estado</th>\n",
       "      <th>Estado</th>\n",
       "      <th>Latitud</th>\n",
       "      <th>Longitud</th>\n",
       "    </tr>\n",
       "  </thead>\n",
       "  <tbody>\n",
       "    <tr>\n",
       "      <th>0</th>\n",
       "      <td>BANAMEX</td>\n",
       "      <td>1</td>\n",
       "      <td>241</td>\n",
       "      <td>SUCURSAL</td>\n",
       "      <td>43</td>\n",
       "      <td>NOGALES</td>\n",
       "      <td>26</td>\n",
       "      <td>SONORA</td>\n",
       "      <td>31.300127</td>\n",
       "      <td>-110.938089</td>\n",
       "    </tr>\n",
       "    <tr>\n",
       "      <th>1</th>\n",
       "      <td>BANAMEX</td>\n",
       "      <td>10</td>\n",
       "      <td>241</td>\n",
       "      <td>SUCURSAL</td>\n",
       "      <td>11</td>\n",
       "      <td>GUASAVE</td>\n",
       "      <td>25</td>\n",
       "      <td>SINALOA</td>\n",
       "      <td>25.561278</td>\n",
       "      <td>-108.460731</td>\n",
       "    </tr>\n",
       "  </tbody>\n",
       "</table>\n",
       "</div>"
      ],
      "text/plain": [
       "  Nombre público ID Banco  Clave de Servicio Tipo de Servicio  \\\n",
       "0        BANAMEX        1                241         SUCURSAL   \n",
       "1        BANAMEX       10                241         SUCURSAL   \n",
       "\n",
       "   Clave Municipio Municipio  Clave Estado   Estado    Latitud    Longitud  \n",
       "0               43   NOGALES            26   SONORA  31.300127 -110.938089  \n",
       "1               11   GUASAVE            25  SINALOA  25.561278 -108.460731  "
      ]
     },
     "execution_count": 15,
     "metadata": {},
     "output_type": "execute_result"
    }
   ],
   "source": [
    "SucursalesFinal=SucClean.rename(columns = {\"NOMBRE_PUB\":\"Nombre público\",\"DAT_PUNTO_\":\"ID Banco\",\"CVE_TIPO_P\":\"Clave de Servicio\",\"DL_TIPO_PU\":\"Tipo de Servicio\",\"CVE_MUNICI\":\"Clave Municipio\",\"DL_MUNICIP\":\"Municipio\",\"CVE_ESTADO\":\"Clave Estado\",\"DL_ESTADO\":\"Estado\",\"DAT_LATITU\":\"Latitud\",\"DAT_LONGIT\":\"Longitud\"})\n",
    "SucursalesFinal.head(2)"
   ]
  },
  {
   "cell_type": "code",
   "execution_count": 20,
   "metadata": {},
   "outputs": [
    {
     "data": {
      "text/html": [
       "<div>\n",
       "<style scoped>\n",
       "    .dataframe tbody tr th:only-of-type {\n",
       "        vertical-align: middle;\n",
       "    }\n",
       "\n",
       "    .dataframe tbody tr th {\n",
       "        vertical-align: top;\n",
       "    }\n",
       "\n",
       "    .dataframe thead th {\n",
       "        text-align: right;\n",
       "    }\n",
       "</style>\n",
       "<table border=\"1\" class=\"dataframe\">\n",
       "  <thead>\n",
       "    <tr style=\"text-align: right;\">\n",
       "      <th></th>\n",
       "      <th>Nombre público</th>\n",
       "      <th>ID Banco</th>\n",
       "      <th>Clave de Servicio</th>\n",
       "      <th>Tipo de Servicio</th>\n",
       "      <th>Clave Municipio</th>\n",
       "      <th>Municipio</th>\n",
       "      <th>Clave Estado</th>\n",
       "      <th>Estado</th>\n",
       "      <th>Latitud</th>\n",
       "      <th>Longitud</th>\n",
       "    </tr>\n",
       "  </thead>\n",
       "  <tbody>\n",
       "    <tr>\n",
       "      <th>0</th>\n",
       "      <td>BANAMEX</td>\n",
       "      <td>1</td>\n",
       "      <td>241</td>\n",
       "      <td>SUCURSAL</td>\n",
       "      <td>43</td>\n",
       "      <td>NOGALES</td>\n",
       "      <td>26</td>\n",
       "      <td>SONORA</td>\n",
       "      <td>31.300127</td>\n",
       "      <td>-110.938089</td>\n",
       "    </tr>\n",
       "    <tr>\n",
       "      <th>1</th>\n",
       "      <td>BANAMEX</td>\n",
       "      <td>10</td>\n",
       "      <td>241</td>\n",
       "      <td>SUCURSAL</td>\n",
       "      <td>11</td>\n",
       "      <td>GUASAVE</td>\n",
       "      <td>25</td>\n",
       "      <td>SINALOA</td>\n",
       "      <td>25.561278</td>\n",
       "      <td>-108.460731</td>\n",
       "    </tr>\n",
       "  </tbody>\n",
       "</table>\n",
       "</div>"
      ],
      "text/plain": [
       "  Nombre público ID Banco  Clave de Servicio Tipo de Servicio Clave Municipio  \\\n",
       "0        BANAMEX        1                241         SUCURSAL              43   \n",
       "1        BANAMEX       10                241         SUCURSAL              11   \n",
       "\n",
       "  Municipio Clave Estado   Estado    Latitud    Longitud  \n",
       "0   NOGALES           26   SONORA  31.300127 -110.938089  \n",
       "1   GUASAVE           25  SINALOA  25.561278 -108.460731  "
      ]
     },
     "execution_count": 20,
     "metadata": {},
     "output_type": "execute_result"
    }
   ],
   "source": [
    "SucursalesFinal[[\"Clave Municipio\",\"Clave Estado\"]]=SucursalesFinal[[\"Clave Municipio\",\"Clave Estado\"]].astype(str)\n",
    "SucursalesFinal.head(2)"
   ]
  },
  {
   "cell_type": "code",
   "execution_count": 21,
   "metadata": {},
   "outputs": [
    {
     "data": {
      "text/plain": [
       "Nombre público        object\n",
       "ID Banco              object\n",
       "Clave de Servicio      int64\n",
       "Tipo de Servicio      object\n",
       "Clave Municipio       object\n",
       "Municipio             object\n",
       "Clave Estado          object\n",
       "Estado                object\n",
       "Latitud              float64\n",
       "Longitud             float64\n",
       "dtype: object"
      ]
     },
     "execution_count": 21,
     "metadata": {},
     "output_type": "execute_result"
    }
   ],
   "source": [
    "SucursalesFinal.dtypes"
   ]
  },
  {
   "cell_type": "code",
   "execution_count": 22,
   "metadata": {},
   "outputs": [
    {
     "data": {
      "text/html": [
       "<div>\n",
       "<style scoped>\n",
       "    .dataframe tbody tr th:only-of-type {\n",
       "        vertical-align: middle;\n",
       "    }\n",
       "\n",
       "    .dataframe tbody tr th {\n",
       "        vertical-align: top;\n",
       "    }\n",
       "\n",
       "    .dataframe thead th {\n",
       "        text-align: right;\n",
       "    }\n",
       "</style>\n",
       "<table border=\"1\" class=\"dataframe\">\n",
       "  <thead>\n",
       "    <tr style=\"text-align: right;\">\n",
       "      <th></th>\n",
       "      <th>Nombre público</th>\n",
       "      <th>ID Banco</th>\n",
       "      <th>Clave de Servicio</th>\n",
       "      <th>Tipo de Servicio</th>\n",
       "      <th>Clave Municipio</th>\n",
       "      <th>Municipio</th>\n",
       "      <th>Clave Estado</th>\n",
       "      <th>Estado</th>\n",
       "      <th>Latitud</th>\n",
       "      <th>Longitud</th>\n",
       "      <th>Clave Estado-Municipio</th>\n",
       "    </tr>\n",
       "  </thead>\n",
       "  <tbody>\n",
       "    <tr>\n",
       "      <th>0</th>\n",
       "      <td>BANAMEX</td>\n",
       "      <td>1</td>\n",
       "      <td>241</td>\n",
       "      <td>SUCURSAL</td>\n",
       "      <td>43</td>\n",
       "      <td>NOGALES</td>\n",
       "      <td>26</td>\n",
       "      <td>SONORA</td>\n",
       "      <td>31.300127</td>\n",
       "      <td>-110.938089</td>\n",
       "      <td>26-43</td>\n",
       "    </tr>\n",
       "    <tr>\n",
       "      <th>1</th>\n",
       "      <td>BANAMEX</td>\n",
       "      <td>10</td>\n",
       "      <td>241</td>\n",
       "      <td>SUCURSAL</td>\n",
       "      <td>11</td>\n",
       "      <td>GUASAVE</td>\n",
       "      <td>25</td>\n",
       "      <td>SINALOA</td>\n",
       "      <td>25.561278</td>\n",
       "      <td>-108.460731</td>\n",
       "      <td>25-11</td>\n",
       "    </tr>\n",
       "  </tbody>\n",
       "</table>\n",
       "</div>"
      ],
      "text/plain": [
       "  Nombre público ID Banco  Clave de Servicio Tipo de Servicio Clave Municipio  \\\n",
       "0        BANAMEX        1                241         SUCURSAL              43   \n",
       "1        BANAMEX       10                241         SUCURSAL              11   \n",
       "\n",
       "  Municipio Clave Estado   Estado    Latitud    Longitud  \\\n",
       "0   NOGALES           26   SONORA  31.300127 -110.938089   \n",
       "1   GUASAVE           25  SINALOA  25.561278 -108.460731   \n",
       "\n",
       "  Clave Estado-Municipio  \n",
       "0                  26-43  \n",
       "1                  25-11  "
      ]
     },
     "execution_count": 22,
     "metadata": {},
     "output_type": "execute_result"
    }
   ],
   "source": [
    "SucursalesFinal['Clave Estado-Municipio'] = SucursalesFinal['Clave Estado'] +\"-\"+ SucursalesFinal['Clave Municipio']\n",
    "SucursalesFinal.head(2)"
   ]
  },
  {
   "cell_type": "code",
   "execution_count": 23,
   "metadata": {},
   "outputs": [
    {
     "data": {
      "text/html": [
       "<div>\n",
       "<style scoped>\n",
       "    .dataframe tbody tr th:only-of-type {\n",
       "        vertical-align: middle;\n",
       "    }\n",
       "\n",
       "    .dataframe tbody tr th {\n",
       "        vertical-align: top;\n",
       "    }\n",
       "\n",
       "    .dataframe thead th {\n",
       "        text-align: right;\n",
       "    }\n",
       "</style>\n",
       "<table border=\"1\" class=\"dataframe\">\n",
       "  <thead>\n",
       "    <tr style=\"text-align: right;\">\n",
       "      <th></th>\n",
       "      <th>ID Banco</th>\n",
       "      <th>Nombre público</th>\n",
       "      <th>Clave de Servicio</th>\n",
       "      <th>Tipo de Servicio</th>\n",
       "      <th>Clave Estado-Municipio</th>\n",
       "      <th>Clave Municipio</th>\n",
       "      <th>Clave Estado</th>\n",
       "      <th>Municipio</th>\n",
       "      <th>Estado</th>\n",
       "      <th>Latitud</th>\n",
       "      <th>Longitud</th>\n",
       "    </tr>\n",
       "  </thead>\n",
       "  <tbody>\n",
       "    <tr>\n",
       "      <th>0</th>\n",
       "      <td>1</td>\n",
       "      <td>BANAMEX</td>\n",
       "      <td>241</td>\n",
       "      <td>SUCURSAL</td>\n",
       "      <td>26-43</td>\n",
       "      <td>43</td>\n",
       "      <td>26</td>\n",
       "      <td>NOGALES</td>\n",
       "      <td>SONORA</td>\n",
       "      <td>31.300127</td>\n",
       "      <td>-110.938089</td>\n",
       "    </tr>\n",
       "    <tr>\n",
       "      <th>1</th>\n",
       "      <td>10</td>\n",
       "      <td>BANAMEX</td>\n",
       "      <td>241</td>\n",
       "      <td>SUCURSAL</td>\n",
       "      <td>25-11</td>\n",
       "      <td>11</td>\n",
       "      <td>25</td>\n",
       "      <td>GUASAVE</td>\n",
       "      <td>SINALOA</td>\n",
       "      <td>25.561278</td>\n",
       "      <td>-108.460731</td>\n",
       "    </tr>\n",
       "  </tbody>\n",
       "</table>\n",
       "</div>"
      ],
      "text/plain": [
       "  ID Banco Nombre público  Clave de Servicio Tipo de Servicio  \\\n",
       "0        1        BANAMEX                241         SUCURSAL   \n",
       "1       10        BANAMEX                241         SUCURSAL   \n",
       "\n",
       "  Clave Estado-Municipio Clave Municipio Clave Estado Municipio   Estado  \\\n",
       "0                  26-43              43           26   NOGALES   SONORA   \n",
       "1                  25-11              11           25   GUASAVE  SINALOA   \n",
       "\n",
       "     Latitud    Longitud  \n",
       "0  31.300127 -110.938089  \n",
       "1  25.561278 -108.460731  "
      ]
     },
     "execution_count": 23,
     "metadata": {},
     "output_type": "execute_result"
    }
   ],
   "source": [
    "SucursalesFinal = SucursalesFinal[['ID Banco', 'Nombre público', 'Clave de Servicio', 'Tipo de Servicio',\"Clave Estado-Municipio\",\"Clave Municipio\",\"Clave Estado\",\"Municipio\",\"Estado\",\"Latitud\",\"Longitud\"]]\n",
    "SucursalesFinal.head(2)"
   ]
  },
  {
   "cell_type": "code",
   "execution_count": 24,
   "metadata": {},
   "outputs": [],
   "source": [
    "SucursalesFinal.to_csv(\"Sucursales.csv\", index=False, header=True)"
   ]
  },
  {
   "cell_type": "code",
   "execution_count": 1,
   "metadata": {},
   "outputs": [],
   "source": [
    "#Suci=Suc.sort_values(by=[\"CVE_MUNICI\"], ascending=False)\n",
    "#Suci.head(5)"
   ]
  },
  {
   "cell_type": "code",
   "execution_count": null,
   "metadata": {},
   "outputs": [],
   "source": []
  },
  {
   "cell_type": "code",
   "execution_count": null,
   "metadata": {},
   "outputs": [],
   "source": []
  }
 ],
 "metadata": {
  "kernelspec": {
   "display_name": "Python [conda env:PythonData] *",
   "language": "python",
   "name": "conda-env-PythonData-py"
  },
  "language_info": {
   "codemirror_mode": {
    "name": "ipython",
    "version": 3
   },
   "file_extension": ".py",
   "mimetype": "text/x-python",
   "name": "python",
   "nbconvert_exporter": "python",
   "pygments_lexer": "ipython3",
   "version": "3.7.5"
  }
 },
 "nbformat": 4,
 "nbformat_minor": 2
}

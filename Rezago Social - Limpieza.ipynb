{
 "cells": [
  {
   "cell_type": "code",
   "execution_count": 35,
   "metadata": {},
   "outputs": [
    {
     "data": {
      "text/html": [
       "<div>\n",
       "<style scoped>\n",
       "    .dataframe tbody tr th:only-of-type {\n",
       "        vertical-align: middle;\n",
       "    }\n",
       "\n",
       "    .dataframe tbody tr th {\n",
       "        vertical-align: top;\n",
       "    }\n",
       "\n",
       "    .dataframe thead th {\n",
       "        text-align: right;\n",
       "    }\n",
       "</style>\n",
       "<table border=\"1\" class=\"dataframe\">\n",
       "  <thead>\n",
       "    <tr style=\"text-align: right;\">\n",
       "      <th></th>\n",
       "      <th>Clave Estado</th>\n",
       "      <th>Estado</th>\n",
       "      <th>Clave Municipio</th>\n",
       "      <th>Municipio</th>\n",
       "      <th>Población 2015</th>\n",
       "      <th>Grado de Rezago Social 2015</th>\n",
       "      <th>Ranking nacional</th>\n",
       "    </tr>\n",
       "  </thead>\n",
       "  <tbody>\n",
       "    <tr>\n",
       "      <th>2456</th>\n",
       "      <td>32.0</td>\n",
       "      <td>Zacatecas</td>\n",
       "      <td>58.0</td>\n",
       "      <td>Santa María de la Paz</td>\n",
       "      <td>2656.0</td>\n",
       "      <td>Bajo</td>\n",
       "      <td>1855</td>\n",
       "    </tr>\n",
       "    <tr>\n",
       "      <th>2413</th>\n",
       "      <td>32.0</td>\n",
       "      <td>Zacatecas</td>\n",
       "      <td>15.0</td>\n",
       "      <td>El Plateado de Joaquín Amaro</td>\n",
       "      <td>1160.0</td>\n",
       "      <td>Bajo</td>\n",
       "      <td>1566</td>\n",
       "    </tr>\n",
       "  </tbody>\n",
       "</table>\n",
       "</div>"
      ],
      "text/plain": [
       "      Clave Estado     Estado  Clave Municipio                     Municipio  \\\n",
       "2456          32.0  Zacatecas             58.0         Santa María de la Paz   \n",
       "2413          32.0  Zacatecas             15.0  El Plateado de Joaquín Amaro   \n",
       "\n",
       "      Población 2015 Grado de Rezago Social 2015 Ranking nacional  \n",
       "2456          2656.0                        Bajo             1855  \n",
       "2413          1160.0                        Bajo             1566  "
      ]
     },
     "execution_count": 35,
     "metadata": {},
     "output_type": "execute_result"
    }
   ],
   "source": [
    "from matplotlib import pyplot as plt\n",
    "from scipy import stats\n",
    "import numpy as np\n",
    "import pandas as pd\n",
    "\n",
    "Rezagopath = \"IRS2015.xlsx\"\n",
    "Rez = pd.read_excel(Rezagopath)\n",
    "pd.set_option('display.max_columns', None)\n",
    "Rezi=Rez.sort_values(by=[\"Clave Estado\"], ascending=False)\n",
    "Rezi.head(2)"
   ]
  },
  {
   "cell_type": "code",
   "execution_count": 39,
   "metadata": {},
   "outputs": [],
   "source": [
    "Rezi[[\"Clave Municipio\",\"Clave Estado\",\"Población 2015\"]]=Rezi[[\"Clave Municipio\",\"Clave Estado\",\"Población 2015\"]].astype(str)\n",
    "Rezi['Clave Estado'] = Rezi['Clave Estado'].apply(lambda x: x.split('.')[0])\n",
    "Rezi['Clave Municipio'] = Rezi['Clave Municipio'].apply(lambda x: x.split('.')[0])\n",
    "Rezi['Población 2015'] = Rezi['Población 2015'].apply(lambda x: x.split('.')[0])"
   ]
  },
  {
   "cell_type": "code",
   "execution_count": 40,
   "metadata": {
    "scrolled": false
   },
   "outputs": [
    {
     "data": {
      "text/html": [
       "<div>\n",
       "<style scoped>\n",
       "    .dataframe tbody tr th:only-of-type {\n",
       "        vertical-align: middle;\n",
       "    }\n",
       "\n",
       "    .dataframe tbody tr th {\n",
       "        vertical-align: top;\n",
       "    }\n",
       "\n",
       "    .dataframe thead th {\n",
       "        text-align: right;\n",
       "    }\n",
       "</style>\n",
       "<table border=\"1\" class=\"dataframe\">\n",
       "  <thead>\n",
       "    <tr style=\"text-align: right;\">\n",
       "      <th></th>\n",
       "      <th>Clave Estado-Municipio</th>\n",
       "      <th>Clave Estado</th>\n",
       "      <th>Clave Municipio</th>\n",
       "      <th>Estado</th>\n",
       "      <th>Municipio</th>\n",
       "      <th>Grado de Rezago Social 2015</th>\n",
       "      <th>Población 2015</th>\n",
       "      <th>Ranking nacional</th>\n",
       "    </tr>\n",
       "  </thead>\n",
       "  <tbody>\n",
       "    <tr>\n",
       "      <th>2456</th>\n",
       "      <td>32-58</td>\n",
       "      <td>32</td>\n",
       "      <td>58</td>\n",
       "      <td>Zacatecas</td>\n",
       "      <td>Santa María de la Paz</td>\n",
       "      <td>Bajo</td>\n",
       "      <td>2656</td>\n",
       "      <td>1855</td>\n",
       "    </tr>\n",
       "    <tr>\n",
       "      <th>2413</th>\n",
       "      <td>32-15</td>\n",
       "      <td>32</td>\n",
       "      <td>15</td>\n",
       "      <td>Zacatecas</td>\n",
       "      <td>El Plateado de Joaquín Amaro</td>\n",
       "      <td>Bajo</td>\n",
       "      <td>1160</td>\n",
       "      <td>1566</td>\n",
       "    </tr>\n",
       "  </tbody>\n",
       "</table>\n",
       "</div>"
      ],
      "text/plain": [
       "     Clave Estado-Municipio Clave Estado Clave Municipio     Estado  \\\n",
       "2456                  32-58           32              58  Zacatecas   \n",
       "2413                  32-15           32              15  Zacatecas   \n",
       "\n",
       "                         Municipio Grado de Rezago Social 2015 Población 2015  \\\n",
       "2456         Santa María de la Paz                        Bajo           2656   \n",
       "2413  El Plateado de Joaquín Amaro                        Bajo           1160   \n",
       "\n",
       "     Ranking nacional  \n",
       "2456             1855  \n",
       "2413             1566  "
      ]
     },
     "execution_count": 40,
     "metadata": {},
     "output_type": "execute_result"
    }
   ],
   "source": [
    "Rezi['Clave Estado-Municipio'] = Rezi['Clave Estado'] +\"-\"+ Rezi['Clave Municipio']\n",
    "RezagoFinal = Rezi[[\"Clave Estado-Municipio\",\"Clave Estado\",\"Clave Municipio\",\"Estado\",\"Municipio\",\"Grado de Rezago Social 2015\",\"Población 2015\",\"Ranking nacional\"]]\n",
    "RezagoFinal.head(2)"
   ]
  },
  {
   "cell_type": "code",
   "execution_count": 41,
   "metadata": {},
   "outputs": [],
   "source": [
    "RezagoFinal.to_csv(\"RezagoFinal.csv\", index=False, header=True)"
   ]
  },
  {
   "cell_type": "code",
   "execution_count": null,
   "metadata": {},
   "outputs": [],
   "source": []
  },
  {
   "cell_type": "code",
   "execution_count": null,
   "metadata": {},
   "outputs": [],
   "source": []
  }
 ],
 "metadata": {
  "kernelspec": {
   "display_name": "Python [conda env:PythonData] *",
   "language": "python",
   "name": "conda-env-PythonData-py"
  },
  "language_info": {
   "codemirror_mode": {
    "name": "ipython",
    "version": 3
   },
   "file_extension": ".py",
   "mimetype": "text/x-python",
   "name": "python",
   "nbconvert_exporter": "python",
   "pygments_lexer": "ipython3",
   "version": "3.7.5"
  }
 },
 "nbformat": 4,
 "nbformat_minor": 2
}
